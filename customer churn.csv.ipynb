{
 "cells": [
  {
   "cell_type": "code",
   "execution_count": 2,
   "id": "a0194684",
   "metadata": {},
   "outputs": [],
   "source": [
    "import pandas as pd\n",
    "from matplotlib import pyplot as plt\n",
    "import numpy as np\n",
    "%matplotlib inline"
   ]
  },
  {
   "cell_type": "code",
   "execution_count": 6,
   "id": "6a8b43cf",
   "metadata": {
    "scrolled": false
   },
   "outputs": [
    {
     "ename": "AttributeError",
     "evalue": "'DataFrame' object has no attribute 'samples'",
     "output_type": "error",
     "traceback": [
      "\u001b[1;31m---------------------------------------------------------------------------\u001b[0m",
      "\u001b[1;31mAttributeError\u001b[0m                            Traceback (most recent call last)",
      "\u001b[1;32m<ipython-input-6-fd51303478fc>\u001b[0m in \u001b[0;36m<module>\u001b[1;34m\u001b[0m\n\u001b[0;32m      1\u001b[0m \u001b[0mdf\u001b[0m \u001b[1;33m=\u001b[0m \u001b[0mpd\u001b[0m\u001b[1;33m.\u001b[0m\u001b[0mread_csv\u001b[0m\u001b[1;33m(\u001b[0m\u001b[1;34m\"customer_churn.csv\"\u001b[0m\u001b[1;33m)\u001b[0m\u001b[1;33m\u001b[0m\u001b[1;33m\u001b[0m\u001b[0m\n\u001b[1;32m----> 2\u001b[1;33m \u001b[0mdf\u001b[0m\u001b[1;33m.\u001b[0m\u001b[0msamples\u001b[0m\u001b[1;33m(\u001b[0m\u001b[1;36m5\u001b[0m\u001b[1;33m)\u001b[0m\u001b[1;33m\u001b[0m\u001b[1;33m\u001b[0m\u001b[0m\n\u001b[0m",
      "\u001b[1;32m~\\anaconda3\\lib\\site-packages\\pandas\\core\\generic.py\u001b[0m in \u001b[0;36m__getattr__\u001b[1;34m(self, name)\u001b[0m\n\u001b[0;32m   5463\u001b[0m             \u001b[1;32mif\u001b[0m \u001b[0mself\u001b[0m\u001b[1;33m.\u001b[0m\u001b[0m_info_axis\u001b[0m\u001b[1;33m.\u001b[0m\u001b[0m_can_hold_identifiers_and_holds_name\u001b[0m\u001b[1;33m(\u001b[0m\u001b[0mname\u001b[0m\u001b[1;33m)\u001b[0m\u001b[1;33m:\u001b[0m\u001b[1;33m\u001b[0m\u001b[1;33m\u001b[0m\u001b[0m\n\u001b[0;32m   5464\u001b[0m                 \u001b[1;32mreturn\u001b[0m \u001b[0mself\u001b[0m\u001b[1;33m[\u001b[0m\u001b[0mname\u001b[0m\u001b[1;33m]\u001b[0m\u001b[1;33m\u001b[0m\u001b[1;33m\u001b[0m\u001b[0m\n\u001b[1;32m-> 5465\u001b[1;33m             \u001b[1;32mreturn\u001b[0m \u001b[0mobject\u001b[0m\u001b[1;33m.\u001b[0m\u001b[0m__getattribute__\u001b[0m\u001b[1;33m(\u001b[0m\u001b[0mself\u001b[0m\u001b[1;33m,\u001b[0m \u001b[0mname\u001b[0m\u001b[1;33m)\u001b[0m\u001b[1;33m\u001b[0m\u001b[1;33m\u001b[0m\u001b[0m\n\u001b[0m\u001b[0;32m   5466\u001b[0m \u001b[1;33m\u001b[0m\u001b[0m\n\u001b[0;32m   5467\u001b[0m     \u001b[1;32mdef\u001b[0m \u001b[0m__setattr__\u001b[0m\u001b[1;33m(\u001b[0m\u001b[0mself\u001b[0m\u001b[1;33m,\u001b[0m \u001b[0mname\u001b[0m\u001b[1;33m:\u001b[0m \u001b[0mstr\u001b[0m\u001b[1;33m,\u001b[0m \u001b[0mvalue\u001b[0m\u001b[1;33m)\u001b[0m \u001b[1;33m->\u001b[0m \u001b[1;32mNone\u001b[0m\u001b[1;33m:\u001b[0m\u001b[1;33m\u001b[0m\u001b[1;33m\u001b[0m\u001b[0m\n",
      "\u001b[1;31mAttributeError\u001b[0m: 'DataFrame' object has no attribute 'samples'"
     ]
    }
   ],
   "source": [
    "df = pd.read_csv(\"customer_churn.csv\")\n",
    "df.samples(5)"
   ]
  },
  {
   "cell_type": "code",
   "execution_count": 7,
   "id": "fc167bf9",
   "metadata": {},
   "outputs": [
    {
     "data": {
      "text/html": [
       "<div>\n",
       "<style scoped>\n",
       "    .dataframe tbody tr th:only-of-type {\n",
       "        vertical-align: middle;\n",
       "    }\n",
       "\n",
       "    .dataframe tbody tr th {\n",
       "        vertical-align: top;\n",
       "    }\n",
       "\n",
       "    .dataframe thead th {\n",
       "        text-align: right;\n",
       "    }\n",
       "</style>\n",
       "<table border=\"1\" class=\"dataframe\">\n",
       "  <thead>\n",
       "    <tr style=\"text-align: right;\">\n",
       "      <th></th>\n",
       "      <th>customerID</th>\n",
       "      <th>gender</th>\n",
       "      <th>SeniorCitizen</th>\n",
       "      <th>Partner</th>\n",
       "      <th>Dependents</th>\n",
       "      <th>tenure</th>\n",
       "      <th>PhoneService</th>\n",
       "      <th>MultipleLines</th>\n",
       "      <th>InternetService</th>\n",
       "      <th>OnlineSecurity</th>\n",
       "      <th>OnlineBackup</th>\n",
       "      <th>DeviceProtection</th>\n",
       "      <th>TechSupport</th>\n",
       "      <th>StreamingTV</th>\n",
       "      <th>StreamingMovies</th>\n",
       "      <th>Contract</th>\n",
       "      <th>PaperlessBilling</th>\n",
       "      <th>PaymentMethod</th>\n",
       "      <th>MonthlyCharges</th>\n",
       "      <th>TotalCharges</th>\n",
       "      <th>Churn</th>\n",
       "    </tr>\n",
       "  </thead>\n",
       "  <tbody>\n",
       "    <tr>\n",
       "      <th>473</th>\n",
       "      <td>4104-PVRPS</td>\n",
       "      <td>Male</td>\n",
       "      <td>0</td>\n",
       "      <td>Yes</td>\n",
       "      <td>No</td>\n",
       "      <td>24</td>\n",
       "      <td>Yes</td>\n",
       "      <td>No</td>\n",
       "      <td>DSL</td>\n",
       "      <td>Yes</td>\n",
       "      <td>No</td>\n",
       "      <td>No</td>\n",
       "      <td>Yes</td>\n",
       "      <td>No</td>\n",
       "      <td>No</td>\n",
       "      <td>Month-to-month</td>\n",
       "      <td>No</td>\n",
       "      <td>Mailed check</td>\n",
       "      <td>53.60</td>\n",
       "      <td>1315.35</td>\n",
       "      <td>No</td>\n",
       "    </tr>\n",
       "    <tr>\n",
       "      <th>1452</th>\n",
       "      <td>0222-CNVPT</td>\n",
       "      <td>Male</td>\n",
       "      <td>1</td>\n",
       "      <td>No</td>\n",
       "      <td>No</td>\n",
       "      <td>52</td>\n",
       "      <td>No</td>\n",
       "      <td>No phone service</td>\n",
       "      <td>DSL</td>\n",
       "      <td>Yes</td>\n",
       "      <td>No</td>\n",
       "      <td>No</td>\n",
       "      <td>No</td>\n",
       "      <td>Yes</td>\n",
       "      <td>Yes</td>\n",
       "      <td>Month-to-month</td>\n",
       "      <td>Yes</td>\n",
       "      <td>Credit card (automatic)</td>\n",
       "      <td>48.80</td>\n",
       "      <td>2555.05</td>\n",
       "      <td>No</td>\n",
       "    </tr>\n",
       "    <tr>\n",
       "      <th>5713</th>\n",
       "      <td>8050-DVOJX</td>\n",
       "      <td>Male</td>\n",
       "      <td>1</td>\n",
       "      <td>No</td>\n",
       "      <td>No</td>\n",
       "      <td>49</td>\n",
       "      <td>Yes</td>\n",
       "      <td>Yes</td>\n",
       "      <td>DSL</td>\n",
       "      <td>Yes</td>\n",
       "      <td>Yes</td>\n",
       "      <td>Yes</td>\n",
       "      <td>Yes</td>\n",
       "      <td>No</td>\n",
       "      <td>Yes</td>\n",
       "      <td>Two year</td>\n",
       "      <td>No</td>\n",
       "      <td>Credit card (automatic)</td>\n",
       "      <td>81.35</td>\n",
       "      <td>4060.9</td>\n",
       "      <td>No</td>\n",
       "    </tr>\n",
       "    <tr>\n",
       "      <th>2811</th>\n",
       "      <td>5804-JMYIO</td>\n",
       "      <td>Female</td>\n",
       "      <td>0</td>\n",
       "      <td>Yes</td>\n",
       "      <td>Yes</td>\n",
       "      <td>39</td>\n",
       "      <td>Yes</td>\n",
       "      <td>No</td>\n",
       "      <td>No</td>\n",
       "      <td>No internet service</td>\n",
       "      <td>No internet service</td>\n",
       "      <td>No internet service</td>\n",
       "      <td>No internet service</td>\n",
       "      <td>No internet service</td>\n",
       "      <td>No internet service</td>\n",
       "      <td>Two year</td>\n",
       "      <td>No</td>\n",
       "      <td>Mailed check</td>\n",
       "      <td>19.75</td>\n",
       "      <td>757.95</td>\n",
       "      <td>No</td>\n",
       "    </tr>\n",
       "    <tr>\n",
       "      <th>2574</th>\n",
       "      <td>3269-ATYWD</td>\n",
       "      <td>Male</td>\n",
       "      <td>1</td>\n",
       "      <td>No</td>\n",
       "      <td>No</td>\n",
       "      <td>39</td>\n",
       "      <td>Yes</td>\n",
       "      <td>Yes</td>\n",
       "      <td>Fiber optic</td>\n",
       "      <td>No</td>\n",
       "      <td>No</td>\n",
       "      <td>No</td>\n",
       "      <td>No</td>\n",
       "      <td>Yes</td>\n",
       "      <td>Yes</td>\n",
       "      <td>Month-to-month</td>\n",
       "      <td>Yes</td>\n",
       "      <td>Bank transfer (automatic)</td>\n",
       "      <td>95.65</td>\n",
       "      <td>3759.05</td>\n",
       "      <td>Yes</td>\n",
       "    </tr>\n",
       "  </tbody>\n",
       "</table>\n",
       "</div>"
      ],
      "text/plain": [
       "      customerID  gender  SeniorCitizen Partner Dependents  tenure  \\\n",
       "473   4104-PVRPS    Male              0     Yes         No      24   \n",
       "1452  0222-CNVPT    Male              1      No         No      52   \n",
       "5713  8050-DVOJX    Male              1      No         No      49   \n",
       "2811  5804-JMYIO  Female              0     Yes        Yes      39   \n",
       "2574  3269-ATYWD    Male              1      No         No      39   \n",
       "\n",
       "     PhoneService     MultipleLines InternetService       OnlineSecurity  \\\n",
       "473           Yes                No             DSL                  Yes   \n",
       "1452           No  No phone service             DSL                  Yes   \n",
       "5713          Yes               Yes             DSL                  Yes   \n",
       "2811          Yes                No              No  No internet service   \n",
       "2574          Yes               Yes     Fiber optic                   No   \n",
       "\n",
       "             OnlineBackup     DeviceProtection          TechSupport  \\\n",
       "473                    No                   No                  Yes   \n",
       "1452                   No                   No                   No   \n",
       "5713                  Yes                  Yes                  Yes   \n",
       "2811  No internet service  No internet service  No internet service   \n",
       "2574                   No                   No                   No   \n",
       "\n",
       "              StreamingTV      StreamingMovies        Contract  \\\n",
       "473                    No                   No  Month-to-month   \n",
       "1452                  Yes                  Yes  Month-to-month   \n",
       "5713                   No                  Yes        Two year   \n",
       "2811  No internet service  No internet service        Two year   \n",
       "2574                  Yes                  Yes  Month-to-month   \n",
       "\n",
       "     PaperlessBilling              PaymentMethod  MonthlyCharges TotalCharges  \\\n",
       "473                No               Mailed check           53.60      1315.35   \n",
       "1452              Yes    Credit card (automatic)           48.80      2555.05   \n",
       "5713               No    Credit card (automatic)           81.35       4060.9   \n",
       "2811               No               Mailed check           19.75       757.95   \n",
       "2574              Yes  Bank transfer (automatic)           95.65      3759.05   \n",
       "\n",
       "     Churn  \n",
       "473     No  \n",
       "1452    No  \n",
       "5713    No  \n",
       "2811    No  \n",
       "2574   Yes  "
      ]
     },
     "execution_count": 7,
     "metadata": {},
     "output_type": "execute_result"
    }
   ],
   "source": [
    "df = pd.read_csv(\"customer_churn.csv\")\n",
    "df.sample(5)"
   ]
  },
  {
   "cell_type": "code",
   "execution_count": 8,
   "id": "c28b2d01",
   "metadata": {},
   "outputs": [
    {
     "data": {
      "text/plain": [
       "(7043, 21)"
      ]
     },
     "execution_count": 8,
     "metadata": {},
     "output_type": "execute_result"
    }
   ],
   "source": [
    "df.shape"
   ]
  },
  {
   "cell_type": "code",
   "execution_count": 9,
   "id": "f60454e4",
   "metadata": {},
   "outputs": [
    {
     "data": {
      "text/plain": [
       "customerID           object\n",
       "gender               object\n",
       "SeniorCitizen         int64\n",
       "Partner              object\n",
       "Dependents           object\n",
       "tenure                int64\n",
       "PhoneService         object\n",
       "MultipleLines        object\n",
       "InternetService      object\n",
       "OnlineSecurity       object\n",
       "OnlineBackup         object\n",
       "DeviceProtection     object\n",
       "TechSupport          object\n",
       "StreamingTV          object\n",
       "StreamingMovies      object\n",
       "Contract             object\n",
       "PaperlessBilling     object\n",
       "PaymentMethod        object\n",
       "MonthlyCharges      float64\n",
       "TotalCharges         object\n",
       "Churn                object\n",
       "dtype: object"
      ]
     },
     "execution_count": 9,
     "metadata": {},
     "output_type": "execute_result"
    }
   ],
   "source": [
    "df.dtypes"
   ]
  },
  {
   "cell_type": "code",
   "execution_count": 10,
   "id": "7d02a0a0",
   "metadata": {},
   "outputs": [],
   "source": [
    "def changeColumnsToString(df):\n",
    "    columnsNames=['Partner','Dependents','PhoneService','MultipleLines','OnlineSecurity','OnlineBackup','DeviceProtection','TechSupport','StreamingTV','StreamingMovies','PaperlessBilling','Churn']\n",
    "    for col in columnsNames:\n",
    "        df[col]=df[col].astype('str').str.replace('Yes','1').replace('No','0').replace('No internet service','0').replace('No phone service',0)\n",
    "\n",
    "changeColumnsToString(df)\n",
    "\n",
    "df['SeniorCitizen']=df['SeniorCitizen'].astype(bool)\n",
    "df['TotalCharges']=pd.to_numeric(df['TotalCharges'],errors='coerce')"
   ]
  },
  {
   "cell_type": "code",
   "execution_count": 11,
   "id": "4f17c77b",
   "metadata": {},
   "outputs": [
    {
     "data": {
      "text/html": [
       "<div>\n",
       "<style scoped>\n",
       "    .dataframe tbody tr th:only-of-type {\n",
       "        vertical-align: middle;\n",
       "    }\n",
       "\n",
       "    .dataframe tbody tr th {\n",
       "        vertical-align: top;\n",
       "    }\n",
       "\n",
       "    .dataframe thead th {\n",
       "        text-align: right;\n",
       "    }\n",
       "</style>\n",
       "<table border=\"1\" class=\"dataframe\">\n",
       "  <thead>\n",
       "    <tr style=\"text-align: right;\">\n",
       "      <th></th>\n",
       "      <th>customerID</th>\n",
       "      <th>gender</th>\n",
       "      <th>SeniorCitizen</th>\n",
       "      <th>Partner</th>\n",
       "      <th>Dependents</th>\n",
       "      <th>tenure</th>\n",
       "      <th>PhoneService</th>\n",
       "      <th>MultipleLines</th>\n",
       "      <th>InternetService</th>\n",
       "      <th>OnlineSecurity</th>\n",
       "      <th>OnlineBackup</th>\n",
       "      <th>DeviceProtection</th>\n",
       "      <th>TechSupport</th>\n",
       "      <th>StreamingTV</th>\n",
       "      <th>StreamingMovies</th>\n",
       "      <th>Contract</th>\n",
       "      <th>PaperlessBilling</th>\n",
       "      <th>PaymentMethod</th>\n",
       "      <th>MonthlyCharges</th>\n",
       "      <th>TotalCharges</th>\n",
       "      <th>Churn</th>\n",
       "    </tr>\n",
       "  </thead>\n",
       "  <tbody>\n",
       "    <tr>\n",
       "      <th>0</th>\n",
       "      <td>7590-VHVEG</td>\n",
       "      <td>Female</td>\n",
       "      <td>False</td>\n",
       "      <td>1</td>\n",
       "      <td>0</td>\n",
       "      <td>1</td>\n",
       "      <td>0</td>\n",
       "      <td>0</td>\n",
       "      <td>DSL</td>\n",
       "      <td>0</td>\n",
       "      <td>1</td>\n",
       "      <td>0</td>\n",
       "      <td>0</td>\n",
       "      <td>0</td>\n",
       "      <td>0</td>\n",
       "      <td>Month-to-month</td>\n",
       "      <td>1</td>\n",
       "      <td>Electronic check</td>\n",
       "      <td>29.85</td>\n",
       "      <td>29.85</td>\n",
       "      <td>0</td>\n",
       "    </tr>\n",
       "    <tr>\n",
       "      <th>1</th>\n",
       "      <td>5575-GNVDE</td>\n",
       "      <td>Male</td>\n",
       "      <td>False</td>\n",
       "      <td>0</td>\n",
       "      <td>0</td>\n",
       "      <td>34</td>\n",
       "      <td>1</td>\n",
       "      <td>0</td>\n",
       "      <td>DSL</td>\n",
       "      <td>1</td>\n",
       "      <td>0</td>\n",
       "      <td>1</td>\n",
       "      <td>0</td>\n",
       "      <td>0</td>\n",
       "      <td>0</td>\n",
       "      <td>One year</td>\n",
       "      <td>0</td>\n",
       "      <td>Mailed check</td>\n",
       "      <td>56.95</td>\n",
       "      <td>1889.50</td>\n",
       "      <td>0</td>\n",
       "    </tr>\n",
       "  </tbody>\n",
       "</table>\n",
       "</div>"
      ],
      "text/plain": [
       "   customerID  gender  SeniorCitizen Partner Dependents  tenure PhoneService  \\\n",
       "0  7590-VHVEG  Female          False       1          0       1            0   \n",
       "1  5575-GNVDE    Male          False       0          0      34            1   \n",
       "\n",
       "  MultipleLines InternetService OnlineSecurity OnlineBackup DeviceProtection  \\\n",
       "0             0             DSL              0            1                0   \n",
       "1             0             DSL              1            0                1   \n",
       "\n",
       "  TechSupport StreamingTV StreamingMovies        Contract PaperlessBilling  \\\n",
       "0           0           0               0  Month-to-month                1   \n",
       "1           0           0               0        One year                0   \n",
       "\n",
       "      PaymentMethod  MonthlyCharges  TotalCharges Churn  \n",
       "0  Electronic check           29.85         29.85     0  \n",
       "1      Mailed check           56.95       1889.50     0  "
      ]
     },
     "execution_count": 11,
     "metadata": {},
     "output_type": "execute_result"
    }
   ],
   "source": [
    "df.head(2)"
   ]
  },
  {
   "cell_type": "code",
   "execution_count": 12,
   "id": "d16eb96a",
   "metadata": {},
   "outputs": [
    {
     "name": "stdout",
     "output_type": "stream",
     "text": [
      "Payment methods:  ['Electronic check' 'Mailed check' 'Bank transfer (automatic)'\n",
      " 'Credit card (automatic)']\n",
      "Contract types:  ['Month-to-month' 'One year' 'Two year']\n",
      "Gender:  ['Female' 'Male']\n",
      "Senior Citizen:  [False  True]\n",
      "Internet Service Types:  ['DSL' 'Fiber optic' 'No']\n"
     ]
    }
   ],
   "source": [
    "print(\"Payment methods: \",df.PaymentMethod.unique())\n",
    "print(\"Contract types: \",df.Contract.unique())\n",
    "print(\"Gender: \",df.gender.unique())\n",
    "print(\"Senior Citizen: \",df.SeniorCitizen.unique())\n",
    "print(\"Internet Service Types: \",df.InternetService.unique())"
   ]
  },
  {
   "cell_type": "code",
   "execution_count": 13,
   "id": "a00c79b4",
   "metadata": {},
   "outputs": [
    {
     "data": {
      "text/plain": [
       "customerID            object\n",
       "gender              category\n",
       "SeniorCitizen       category\n",
       "Partner               object\n",
       "Dependents            object\n",
       "tenure                 int64\n",
       "PhoneService          object\n",
       "MultipleLines         object\n",
       "InternetService     category\n",
       "OnlineSecurity        object\n",
       "OnlineBackup          object\n",
       "DeviceProtection      object\n",
       "TechSupport           object\n",
       "StreamingTV           object\n",
       "StreamingMovies       object\n",
       "Contract            category\n",
       "PaperlessBilling      object\n",
       "PaymentMethod       category\n",
       "MonthlyCharges       float64\n",
       "TotalCharges         float64\n",
       "Churn                 object\n",
       "dtype: object"
      ]
     },
     "execution_count": 13,
     "metadata": {},
     "output_type": "execute_result"
    }
   ],
   "source": [
    "df['gender']=df['gender'].astype('category')\n",
    "df['PaymentMethod']=df['PaymentMethod'].astype('category')\n",
    "df['Contract']=df['Contract'].astype('category')\n",
    "df['SeniorCitizen']=df['SeniorCitizen'].astype('category')\n",
    "df['InternetService']=df['InternetService'].astype('category')\n",
    "df.dtypes"
   ]
  },
  {
   "cell_type": "code",
   "execution_count": 14,
   "id": "a2e872ad",
   "metadata": {},
   "outputs": [
    {
     "name": "stdout",
     "output_type": "stream",
     "text": [
      "   payment_Bank transfer (automatic)  payment_Credit card (automatic)  \\\n",
      "0                                  0                                0   \n",
      "1                                  0                                0   \n",
      "2                                  0                                0   \n",
      "\n",
      "   payment_Electronic check  payment_Mailed check  \n",
      "0                         1                     0  \n",
      "1                         0                     1  \n",
      "2                         0                     1  \n",
      "   contract_Month-to-month  contract_One year  contract_Two year\n",
      "0                        1                  0                  0\n",
      "1                        0                  1                  0\n",
      "2                        1                  0                  0\n",
      "   gender_Female  gender_Male\n",
      "0              1            0\n",
      "1              0            1\n",
      "2              0            1\n",
      "   SC_False  SC_True\n",
      "0         1        0\n",
      "1         1        0\n",
      "2         1        0\n",
      "   IS_DSL  IS_Fiber optic  IS_No\n",
      "0       1               0      0\n",
      "1       1               0      0\n",
      "2       1               0      0\n"
     ]
    }
   ],
   "source": [
    "dfPaymentDummies = pd.get_dummies(df['PaymentMethod'], prefix = 'payment')\n",
    "dfContractDummies = pd.get_dummies(df['Contract'], prefix = 'contract')\n",
    "dfGenderDummies = pd.get_dummies(df['gender'], prefix = 'gender')\n",
    "dfSeniorCitizenDummies = pd.get_dummies(df['SeniorCitizen'], prefix = 'SC')\n",
    "dfInternetServiceDummies = pd.get_dummies(df['InternetService'], prefix = 'IS')\n",
    "\n",
    "print(dfPaymentDummies.head(3))\n",
    "print(dfContractDummies.head(3))\n",
    "print(dfGenderDummies.head(3))\n",
    "print(dfSeniorCitizenDummies.head(3))\n",
    "print(dfInternetServiceDummies.head(3))"
   ]
  },
  {
   "cell_type": "code",
   "execution_count": 15,
   "id": "d86e0566",
   "metadata": {},
   "outputs": [
    {
     "data": {
      "text/html": [
       "<div>\n",
       "<style scoped>\n",
       "    .dataframe tbody tr th:only-of-type {\n",
       "        vertical-align: middle;\n",
       "    }\n",
       "\n",
       "    .dataframe tbody tr th {\n",
       "        vertical-align: top;\n",
       "    }\n",
       "\n",
       "    .dataframe thead th {\n",
       "        text-align: right;\n",
       "    }\n",
       "</style>\n",
       "<table border=\"1\" class=\"dataframe\">\n",
       "  <thead>\n",
       "    <tr style=\"text-align: right;\">\n",
       "      <th></th>\n",
       "      <th>customerID</th>\n",
       "      <th>Partner</th>\n",
       "      <th>Dependents</th>\n",
       "      <th>tenure</th>\n",
       "      <th>PhoneService</th>\n",
       "      <th>MultipleLines</th>\n",
       "      <th>OnlineSecurity</th>\n",
       "      <th>OnlineBackup</th>\n",
       "      <th>DeviceProtection</th>\n",
       "      <th>TechSupport</th>\n",
       "      <th>StreamingTV</th>\n",
       "      <th>StreamingMovies</th>\n",
       "      <th>PaperlessBilling</th>\n",
       "      <th>MonthlyCharges</th>\n",
       "      <th>TotalCharges</th>\n",
       "      <th>Churn</th>\n",
       "      <th>payment_Bank transfer (automatic)</th>\n",
       "      <th>payment_Credit card (automatic)</th>\n",
       "      <th>payment_Electronic check</th>\n",
       "      <th>payment_Mailed check</th>\n",
       "      <th>contract_Month-to-month</th>\n",
       "      <th>contract_One year</th>\n",
       "      <th>contract_Two year</th>\n",
       "      <th>gender_Female</th>\n",
       "      <th>gender_Male</th>\n",
       "      <th>SC_False</th>\n",
       "      <th>SC_True</th>\n",
       "      <th>IS_DSL</th>\n",
       "      <th>IS_Fiber optic</th>\n",
       "      <th>IS_No</th>\n",
       "    </tr>\n",
       "  </thead>\n",
       "  <tbody>\n",
       "    <tr>\n",
       "      <th>0</th>\n",
       "      <td>7590-VHVEG</td>\n",
       "      <td>1</td>\n",
       "      <td>0</td>\n",
       "      <td>1</td>\n",
       "      <td>0</td>\n",
       "      <td>0</td>\n",
       "      <td>0</td>\n",
       "      <td>1</td>\n",
       "      <td>0</td>\n",
       "      <td>0</td>\n",
       "      <td>0</td>\n",
       "      <td>0</td>\n",
       "      <td>1</td>\n",
       "      <td>29.85</td>\n",
       "      <td>29.85</td>\n",
       "      <td>0</td>\n",
       "      <td>0</td>\n",
       "      <td>0</td>\n",
       "      <td>1</td>\n",
       "      <td>0</td>\n",
       "      <td>1</td>\n",
       "      <td>0</td>\n",
       "      <td>0</td>\n",
       "      <td>1</td>\n",
       "      <td>0</td>\n",
       "      <td>1</td>\n",
       "      <td>0</td>\n",
       "      <td>1</td>\n",
       "      <td>0</td>\n",
       "      <td>0</td>\n",
       "    </tr>\n",
       "    <tr>\n",
       "      <th>1</th>\n",
       "      <td>5575-GNVDE</td>\n",
       "      <td>0</td>\n",
       "      <td>0</td>\n",
       "      <td>34</td>\n",
       "      <td>1</td>\n",
       "      <td>0</td>\n",
       "      <td>1</td>\n",
       "      <td>0</td>\n",
       "      <td>1</td>\n",
       "      <td>0</td>\n",
       "      <td>0</td>\n",
       "      <td>0</td>\n",
       "      <td>0</td>\n",
       "      <td>56.95</td>\n",
       "      <td>1889.50</td>\n",
       "      <td>0</td>\n",
       "      <td>0</td>\n",
       "      <td>0</td>\n",
       "      <td>0</td>\n",
       "      <td>1</td>\n",
       "      <td>0</td>\n",
       "      <td>1</td>\n",
       "      <td>0</td>\n",
       "      <td>0</td>\n",
       "      <td>1</td>\n",
       "      <td>1</td>\n",
       "      <td>0</td>\n",
       "      <td>1</td>\n",
       "      <td>0</td>\n",
       "      <td>0</td>\n",
       "    </tr>\n",
       "  </tbody>\n",
       "</table>\n",
       "</div>"
      ],
      "text/plain": [
       "   customerID Partner Dependents  tenure PhoneService MultipleLines  \\\n",
       "0  7590-VHVEG       1          0       1            0             0   \n",
       "1  5575-GNVDE       0          0      34            1             0   \n",
       "\n",
       "  OnlineSecurity OnlineBackup DeviceProtection TechSupport StreamingTV  \\\n",
       "0              0            1                0           0           0   \n",
       "1              1            0                1           0           0   \n",
       "\n",
       "  StreamingMovies PaperlessBilling  MonthlyCharges  TotalCharges Churn  \\\n",
       "0               0                1           29.85         29.85     0   \n",
       "1               0                0           56.95       1889.50     0   \n",
       "\n",
       "   payment_Bank transfer (automatic)  payment_Credit card (automatic)  \\\n",
       "0                                  0                                0   \n",
       "1                                  0                                0   \n",
       "\n",
       "   payment_Electronic check  payment_Mailed check  contract_Month-to-month  \\\n",
       "0                         1                     0                        1   \n",
       "1                         0                     1                        0   \n",
       "\n",
       "   contract_One year  contract_Two year  gender_Female  gender_Male  SC_False  \\\n",
       "0                  0                  0              1            0         1   \n",
       "1                  1                  0              0            1         1   \n",
       "\n",
       "   SC_True  IS_DSL  IS_Fiber optic  IS_No  \n",
       "0        0       1               0      0  \n",
       "1        0       1               0      0  "
      ]
     },
     "execution_count": 15,
     "metadata": {},
     "output_type": "execute_result"
    }
   ],
   "source": [
    "df.drop(['gender','PaymentMethod','Contract','SeniorCitizen','InternetService'], axis=1, inplace=True)\n",
    "\n",
    "df = pd.concat([df, dfPaymentDummies], axis=1)\n",
    "df = pd.concat([df, dfContractDummies], axis=1)\n",
    "df = pd.concat([df, dfGenderDummies], axis=1)\n",
    "df = pd.concat([df, dfSeniorCitizenDummies], axis=1)\n",
    "df = pd.concat([df, dfInternetServiceDummies], axis=1)\n",
    "df.head(2)"
   ]
  },
  {
   "cell_type": "code",
   "execution_count": 16,
   "id": "98ee6494",
   "metadata": {},
   "outputs": [],
   "source": [
    "df.columns = ['customerID', 'Partner', 'Dependents', 'tenure', 'PhoneService',\n",
    "       'MultipleLines', 'OnlineSecurity', 'OnlineBackup', 'DeviceProtection',\n",
    "       'TechSupport', 'StreamingTV', 'StreamingMovies', 'PaperlessBilling',\n",
    "       'MonthlyCharges', 'TotalCharges', 'Churn',\n",
    "       'payment_Bank_transfer_auto', 'payment_Credit_card_auto',\n",
    "       'payment_Electronic_check', 'payment_Mailed_check',\n",
    "       'contract_Month_to_month', 'contract_One_year', 'contract_Two_year',\n",
    "       'gender_Female', 'gender_Male', 'SC_False', 'SC_True', 'IS_DSL',\n",
    "       'IS_Fiber_optic', 'IS_No']"
   ]
  },
  {
   "cell_type": "code",
   "execution_count": 17,
   "id": "6c1fddec",
   "metadata": {},
   "outputs": [
    {
     "data": {
      "text/plain": [
       "customerID                     object\n",
       "Partner                         int64\n",
       "Dependents                      int64\n",
       "tenure                          int64\n",
       "PhoneService                    int64\n",
       "MultipleLines                   int64\n",
       "OnlineSecurity                  int64\n",
       "OnlineBackup                    int64\n",
       "DeviceProtection                int64\n",
       "TechSupport                     int64\n",
       "StreamingTV                     int64\n",
       "StreamingMovies                 int64\n",
       "PaperlessBilling                int64\n",
       "MonthlyCharges                float64\n",
       "TotalCharges                  float64\n",
       "Churn                           int64\n",
       "payment_Bank_transfer_auto      uint8\n",
       "payment_Credit_card_auto        uint8\n",
       "payment_Electronic_check        uint8\n",
       "payment_Mailed_check            uint8\n",
       "contract_Month_to_month         uint8\n",
       "contract_One_year               uint8\n",
       "contract_Two_year               uint8\n",
       "gender_Female                   uint8\n",
       "gender_Male                     uint8\n",
       "SC_False                        uint8\n",
       "SC_True                         uint8\n",
       "IS_DSL                          uint8\n",
       "IS_Fiber_optic                  uint8\n",
       "IS_No                           uint8\n",
       "dtype: object"
      ]
     },
     "execution_count": 17,
     "metadata": {},
     "output_type": "execute_result"
    }
   ],
   "source": [
    "numericColumns=np.array(['Partner', 'Dependents', 'tenure', 'PhoneService',\n",
    "       'MultipleLines', 'OnlineSecurity', 'OnlineBackup', 'DeviceProtection',\n",
    "       'TechSupport', 'StreamingTV', 'StreamingMovies', 'PaperlessBilling',\n",
    "       'MonthlyCharges', 'TotalCharges', 'Churn',\n",
    "       'payment_Bank_transfer_auto', 'payment_Credit_card_auto',\n",
    "       'payment_Electronic_check', 'payment_Mailed_check',\n",
    "       'contract_Month_to_month', 'contract_One_year', 'contract_Two_year',\n",
    "       'gender_Female', 'gender_Male', 'SC_False', 'SC_True', 'IS_DSL',\n",
    "       'IS_Fiber_optic', 'IS_No'])\n",
    "\n",
    "for columnName in numericColumns:\n",
    "    df[columnName]=pd.to_numeric(df[columnName],errors='coerce')\n",
    "df.dtypes"
   ]
  },
  {
   "cell_type": "code",
   "execution_count": 18,
   "id": "af6734f2",
   "metadata": {},
   "outputs": [],
   "source": [
    "modelData = df.loc[:, df.columns != 'customerID']\n",
    "modelData.to_csv('modelData.csv')"
   ]
  },
  {
   "cell_type": "code",
   "execution_count": 19,
   "id": "38780c2a",
   "metadata": {},
   "outputs": [
    {
     "name": "stdout",
     "output_type": "stream",
     "text": [
      "[[0.0000e+00 1.0000e+00 0.0000e+00 1.0000e+00 0.0000e+00 0.0000e+00\n",
      "  0.0000e+00 1.0000e+00 0.0000e+00 0.0000e+00 0.0000e+00 0.0000e+00\n",
      "  1.0000e+00 2.9850e+01 2.9850e+01 0.0000e+00 0.0000e+00 1.0000e+00\n",
      "  0.0000e+00 1.0000e+00 0.0000e+00 0.0000e+00 1.0000e+00 0.0000e+00\n",
      "  1.0000e+00 0.0000e+00 1.0000e+00 0.0000e+00 0.0000e+00]\n",
      " [1.0000e+00 0.0000e+00 0.0000e+00 3.4000e+01 1.0000e+00 0.0000e+00\n",
      "  1.0000e+00 0.0000e+00 1.0000e+00 0.0000e+00 0.0000e+00 0.0000e+00\n",
      "  0.0000e+00 5.6950e+01 1.8895e+03 0.0000e+00 0.0000e+00 0.0000e+00\n",
      "  1.0000e+00 0.0000e+00 1.0000e+00 0.0000e+00 0.0000e+00 1.0000e+00\n",
      "  1.0000e+00 0.0000e+00 1.0000e+00 0.0000e+00 0.0000e+00]]\n",
      "[0 0]\n"
     ]
    }
   ],
   "source": [
    "modelData=pd.read_csv('modelData.csv')\n",
    "\n",
    "modelData[modelData==np.inf]=np.nan\n",
    "modelData.fillna(modelData.mean(), inplace=True)\n",
    "\n",
    "x=np.asarray(modelData.loc[:,modelData.columns != 'Churn'])\n",
    "y=np.asarray(modelData['Churn'])\n",
    "\n",
    "print(x[:2])\n",
    "print(y[:2])"
   ]
  },
  {
   "cell_type": "code",
   "execution_count": 20,
   "id": "7da0ea91",
   "metadata": {},
   "outputs": [
    {
     "data": {
      "text/plain": [
       "array([[-1.7318049 ,  1.03453023, -0.65401193, -1.27744458, -3.05401039,\n",
       "        -0.85417615, -0.63393298,  1.3782406 , -0.72396752, -0.63943864,\n",
       "        -0.79013171, -0.79607014,  0.8297975 , -1.16032292, -0.99497138,\n",
       "        -0.5298852 , -0.52504733,  1.40641839, -0.54480692,  0.90418382,\n",
       "        -0.51424938, -0.56297505,  1.00955867, -1.00955867,  0.43991649,\n",
       "        -0.43991649,  1.38171215, -0.88565976, -0.52592737],\n",
       "       [-1.73131305, -0.96662231, -0.65401193,  0.06632742,  0.32743831,\n",
       "        -0.85417615,  1.57745383, -0.72556272,  1.38127743, -0.63943864,\n",
       "        -0.79013171, -0.79607014, -1.20511329, -0.25962894, -0.17387565,\n",
       "        -0.5298852 , -0.52504733, -0.71102597,  1.83551265, -1.1059698 ,\n",
       "         1.94458183, -0.56297505, -0.99053183,  0.99053183,  0.43991649,\n",
       "        -0.43991649,  1.38171215, -0.88565976, -0.52592737]])"
      ]
     },
     "execution_count": 20,
     "metadata": {},
     "output_type": "execute_result"
    }
   ],
   "source": [
    "from sklearn import preprocessing\n",
    "x = preprocessing.StandardScaler().fit(x).transform(x)\n",
    "x[0:2]"
   ]
  },
  {
   "cell_type": "code",
   "execution_count": 21,
   "id": "cb3f940c",
   "metadata": {},
   "outputs": [
    {
     "name": "stdout",
     "output_type": "stream",
     "text": [
      "Train set: (5634, 29) (5634,)\n",
      "Test set: (1409, 29) (1409,)\n"
     ]
    }
   ],
   "source": [
    "from sklearn.model_selection import train_test_split\n",
    "\n",
    "X_train, X_test, y_train, y_test = train_test_split( x, y, test_size=0.2, random_state=72)\n",
    "print ('Train set:', X_train.shape,  y_train.shape)\n",
    "print ('Test set:', X_test.shape,  y_test.shape)"
   ]
  },
  {
   "cell_type": "code",
   "execution_count": 22,
   "id": "20c3216d",
   "metadata": {},
   "outputs": [
    {
     "name": "stdout",
     "output_type": "stream",
     "text": [
      "The shape of x_train:  (5634, 29)\n",
      "The shape of x_train_s:  (5634, 15)\n"
     ]
    }
   ],
   "source": [
    "from sklearn.feature_selection import SelectFromModel\n",
    "from sklearn.ensemble import RandomForestClassifier\n",
    "\n",
    "select = SelectFromModel(RandomForestClassifier(n_estimators=100, random_state=37), threshold='median')\n",
    "select.fit(X_train, y_train)\n",
    "\n",
    "X_train_s = select.transform(X_train)\n",
    "\n",
    "print('The shape of x_train: ',X_train.shape)\n",
    "print('The shape of x_train_s: ',X_train_s.shape)"
   ]
  },
  {
   "cell_type": "code",
   "execution_count": 23,
   "id": "fbeaa1d2",
   "metadata": {},
   "outputs": [
    {
     "data": {
      "text/plain": [
       "Text(0.5, 0, 'Index of features')"
      ]
     },
     "execution_count": 23,
     "metadata": {},
     "output_type": "execute_result"
    },
    {
     "data": {
      "image/png": "[encoded data removed]",
      "text/plain": [
       "<Figure size 1152x144 with 1 Axes>"
      ]
     },
     "metadata": {
      "needs_background": "light"
     },
     "output_type": "display_data"
    }
   ],
   "source": [
    "mask=select.get_support()\n",
    "plt.matshow(mask.reshape(1,-1), cmap='gray_r')\n",
    "plt.xlabel('Index of features')"
   ]
  },
  {
   "cell_type": "code",
   "execution_count": 24,
   "id": "d84aef90",
   "metadata": {},
   "outputs": [
    {
     "name": "stdout",
     "output_type": "stream",
     "text": [
      "The score of Logistic Regerssion for customer churn: 0.796\n"
     ]
    }
   ],
   "source": [
    "X_test_s = select.transform(X_test)\n",
    "\n",
    "from sklearn.linear_model import LogisticRegression\n",
    "lr=LogisticRegression()\n",
    "score = lr.fit(X_train_s,y_train).score(X_test_s, y_test)\n",
    "print('The score of Logistic Regerssion for customer churn: {:.3f}'.format(score))"
   ]
  },
  {
   "cell_type": "code",
   "execution_count": null,
   "id": "0406ed9a",
   "metadata": {},
   "outputs": [],
   "source": []
  }
 ],
 "metadata": {
  "kernelspec": {
   "display_name": "Python 3",
   "language": "python",
   "name": "python3"
  },
  "language_info": {
   "codemirror_mode": {
    "name": "ipython",
    "version": 3
   },
   "file_extension": ".py",
   "mimetype": "text/x-python",
   "name": "python",
   "nbconvert_exporter": "python",
   "pygments_lexer": "ipython3",
   "version": "3.8.8"
  }
 },
 "nbformat": 4,
 "nbformat_minor": 5
}
